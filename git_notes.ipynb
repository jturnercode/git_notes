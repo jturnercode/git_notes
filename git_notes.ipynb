{
 "cells": [
  {
   "cell_type": "markdown",
   "source": [
    "# Git Notes\r\n",
    "\r\n",
    "Guide to help me learn git better by using git\r\n",
    "(also practice markdown)"
   ],
   "metadata": {}
  },
  {
   "cell_type": "markdown",
   "source": [
    "## Git Help\r\n",
    "\r\n",
    "Access common git commands\r\n",
    "> git help\r\n",
    "\r\n",
    "Pull up doc for a specific command\r\n",
    "> git <command> --help\r\n",
    "\r\n",
    "Check git version\r\n",
    "> git --version\r\n"
   ],
   "metadata": {}
  },
  {
   "cell_type": "markdown",
   "source": [
    " ## Git config\r\n",
    "\r\n",
    " -- add info --"
   ],
   "metadata": {}
  },
  {
   "cell_type": "markdown",
   "source": [
    "## Initialize Local Git Repository\r\n",
    "\r\n",
    "Typically if you are not cloning a remote project to a current local directory, the first step would be to initial a git repository locally. \r\n",
    "\r\n",
    "First create a folder on local machine that will hold files \r\n",
    "Initialize a directory\r\n",
    ">git init\r\n",
    "\r\n",
    "*Note: We can also create directory and initialize at same time*\r\n",
    ">git init directory_name\r\n",
    "\r\n",
    "The init command will also create a .git folder which holds all files that git uses to track history. There is no need to touch any of these files."
   ],
   "metadata": {}
  },
  {
   "cell_type": "markdown",
   "source": [
    "## Git Workflow\r\n",
    "\r\n",
    "-- add info --\r\n",
    "Put diagram describing workflow\r\n",
    "working dir to index(staging area) to head (commit)"
   ],
   "metadata": {}
  },
  {
   "cell_type": "markdown",
   "source": [
    "## Git Status\r\n",
    "The **git status** command is one of the most used commands that let you know state of the local git repo. It also provides helpful information on possible next steps while working within local repository.\r\n",
    ">git status"
   ],
   "metadata": {}
  },
  {
   "cell_type": "markdown",
   "source": [
    "## Connect Local Repo to Remote Repo\r\n",
    "\r\n",
    "> *git remote add \\<name\\> <repository url>*\r\n",
    "example: git remote add origin https://github.com/reponame\r\n",
    "\r\n",
    "*Note: origin is the recommended or by default used by the developer for the first or primary repository on GitHub. It is not restricted and you can use your own name.*\r\n",
    "\r\n",
    "Check remote connection details\r\n",
    ">git remote -v"
   ],
   "metadata": {}
  },
  {
   "cell_type": "markdown",
   "source": [
    "## git clone\r\n",
    "Copy (clone) a repository into a new directory.\r\n",
    "Clones can be gathered from local or remote repositories.\r\n",
    "\r\n",
    "\r\n",
    "### Clone to specific folder\r\n",
    "Clone the repository located at ＜repo＞ into the folder called ~＜directory＞! on the local machine.\r\n",
    "\r\n",
    "> git clone <repo> <directory>\r\n",
    "\r\n",
    "\r\n",
    "\r\n",
    "### cloning a specific tag\r\n",
    "Clone the repository located at ＜repo＞ and only clone the ref for ＜tag＞.\r\n",
    "\r\n",
    "> git clone --branch <tag> <repo>\r\n",
    "\r\n",
    "### shallow clone\r\n",
    "Clone the repository located at ＜repo＞ and only clone the \r\n",
    "history of commits specified by the option depth=1.\r\n",
    "An extensive commit history may cause scaling problems such as disk space usage limits and long wait times when cloning.\r\n",
    "\r\n",
    "> git clone -depth=1 <repo>\r\n",
    "\r\n",
    "### git clone branch\r\n",
    "The -branch argument lets you specify a specific branch to clone instead of the branch the remote HEAD is pointing to, usually the main branch.\r\n",
    "\r\n",
    "> git clone -branch new_feature git://remoterepository.git"
   ],
   "metadata": {}
  },
  {
   "cell_type": "markdown",
   "source": [
    "## git add"
   ],
   "metadata": {}
  },
  {
   "cell_type": "markdown",
   "source": [
    "## git commit"
   ],
   "metadata": {}
  },
  {
   "cell_type": "markdown",
   "source": [
    "## git log\r\n",
    "\r\n",
    "Show commited logs\r\n",
    "\r\n",
    "> git log\r\n",
    "\r\n",
    "\r\n",
    "*typical output:*\r\n",
    "```\r\n",
    "commit 4dd2cddb57fe93f0ef4ed114b126dd04b1919b81 (HEAD -> master)\r\n",
    "Author: Thor <thor@gmail.com>\r\n",
    "Date:   Thu Jan 13 17:58:24 2022 -0600\r\n",
    "\r\n",
    "    adding file2.py\r\n",
    "\r\n",
    "commit 42a5c8869dd0ff5badc0116118b4b1eba355059a\r\n",
    "Author: Iron Man <iman@gmail.com>\r\n",
    "Date:   Thu Jan 13 17:58:06 2022 -0600\r\n",
    "\r\n",
    "    adding file.py\r\n",
    "```\r\n",
    "\r\n",
    "Show in compact form\r\n",
    "\r\n",
    "> git log --oneline\r\n",
    "\r\n",
    "```\r\n",
    "4dd2cdd (HEAD -> master) adding file2.py\r\n",
    "42a5c88 adding file.py\r\n",
    "0b56530 additional info\r\n",
    "3cf2f71 (origin/master) adding .ipynb file\r\n",
    "fa6818b Initial commit\r\n",
    "```\r\n",
    "\r\n",
    "See 'Pretty Formats' in git log --help for many more options\r\n"
   ],
   "metadata": {}
  },
  {
   "cell_type": "markdown",
   "source": [
    "## git pull\r\n",
    "\r\n",
    "Incorporates changes from a remote repository into the current branch.\r\n",
    "- If the current (local) branch is behind the remote, then by default it will fast-forward the current branch to match the remote. **This will overwrite local files.**\r\n",
    "- If the current branch and the remote have diverged, the user needs to specify how to reconcile the divergent branches with --rebase or --no-rebase (or the corresponding configuration option in pull.rebase).\r\n",
    "\r\n",
    ">git pull <remote> <branch>\r\n",
    "\r\n",
    "### Pulling remote repo into local repo with exising files\r\n",
    "pulling into local directory will possibly overwrite local repo files \r\n",
    "\r\n",
    "*To be able to push to your remote repository, you must ascertain that all your changes to the local repository are committed.*"
   ],
   "metadata": {}
  },
  {
   "cell_type": "markdown",
   "source": [
    "## git push\r\n",
    "Update remote refs along with associated objects\r\n",
    "\r\n",
    "\r\n",
    "??To push the current branch and set the remote as upstream, use:\r\n",
    ">git push --set-upstream origin master\r\n",
    "\r\n",
    "\r\n",
    "\r\n",
    "### pushing new branch?\r\n",
    "output from creating master branch over main branch\r\n",
    "remote: Create a pull request for 'master' on GitHub by visiting:\r\n",
    "remote:      https://github.com/.../git_notes/pull/new/master\r\n",
    "remote:\r\n",
    "To https://github.com/.../git_notes.git\r\n",
    " * [new branch]      master -> master\r\n",
    "Branch 'master' set up to track remote branch 'master' from 'origin'. \r\n",
    "\r\n",
    "\r\n",
    "### push errors\r\n",
    "\r\n",
    "1. error: failed to push some refs to 'https://github.com/.../git_notes.git'\r\n",
    "Pushed to main/master branch with result above error. This is likely due to not being recognized as owner of the repo. Need to setup remote with password locally? or submit new branch so owner can merge\r\n",
    "\r\n",
    "read\r\n",
    "https://archaeogeek.github.io/gettingstartedwithgit/github/pullrequest.html\r\n",
    "\r\n",
    "\r\n"
   ],
   "metadata": {}
  },
  {
   "cell_type": "markdown",
   "source": [
    "# Rewrite Git History"
   ],
   "metadata": {}
  },
  {
   "cell_type": "markdown",
   "source": [
    "## git commit --amend\r\n",
    "\r\n",
    "Replace the **last commit** by amending a new commit. This will overwrite the last commit in history. *Note: this only works on last commit, see rebase for more advanced options*\r\n",
    "\r\n",
    "- This is typically used if last commit had easy changes (typos) that you want to change without having to create a new commit. \r\n",
    "\r\n",
    "First commit changes you want to amend and then run below command\r\n",
    "- **--no-edit** flag keeps from overwriting the last commit's message\r\n",
    "- **-m** flag to overwrite old message with new one\r\n",
    "> git commit --amend --no-edit\r\n",
    "\r\n",
    "\r\n",
    "Before --amend\r\n",
    "```\r\n",
    "4dd2cdd (HEAD -> master) adding file2.py\r\n",
    "fa6818b Initial commit\r\n",
    "```\r\n",
    "\r\n",
    "After --amend. *Note: id of last commit changes*\r\n",
    "```\r\n",
    "bb46bdc (HEAD -> master) adding file2.py\r\n",
    "fa6818b Initial commit\r\n",
    "```\r\n",
    "\r\n"
   ],
   "metadata": {}
  },
  {
   "cell_type": "markdown",
   "source": [
    "## git rebase\r\n",
    "\r\n",
    "*Note: cannot run rebase unless you commit or stash unstaged changes*\r\n",
    "\r\n",
    "### Reword commit messages\r\n",
    "Rewrite any commit messages\r\n",
    "\r\n",
    "> git rebase -i\r\n",
    ">\r\n",
    "> Select last two commits from HEAD node \r\n",
    "> git rebase -i HEAD~2\r\n",
    ">\r\n",
    ">\r\n",
    "> Follow prompt that pops up\r\n",
    "Rewrite pick with reword and save file\r\n",
    "another file will popup and you will need to update the message and save file\r\n",
    ">\r\n",
    ">\r\n",
    ">\r\n",
    ">\r\n",
    "\r\n",
    "\r\n",
    "\r\n",
    "\r\n",
    "### Deleting commits\r\n",
    "Delete any commit\r\n",
    "\r\n",
    "**issues with trying to remove a commit with rebase. erased current files**\r\n",
    "\r\n",
    "\r\n",
    "$ git log --oneline\r\n",
    "ece9dca (HEAD -> master) add rewrite_history.md\r\n",
    "63327ad commit changes so i can rebase\r\n",
    "006aca0 file2.py amend message\r\n",
    "0b56530 additional info\r\n",
    "3cf2f71 (origin/master) adding .ipynb file\r\n",
    "fa6818b Initial commit\r\n",
    "\r\n",
    "\r\n",
    "JTURNER@C4VXRD2 MINGW64 ~/OneDrive - City of Sugar Land/PyProjects/_pyNotes/git_notes (master)\r\n",
    "$ git rebase -i HEAD~5\r\n",
    "Auto-merging git_notes.ipynb\r\n",
    "CONFLICT (content): Merge conflict in git_notes.ipynb\r\n",
    "error: could not apply 63327ad... commit changes so i can rebase\r\n",
    "hint: Resolve all conflicts manually, mark them as resolved with\r\n",
    "hint: \"git add/rm <conflicted_files>\", then run \"git rebase --continue\".\r\n",
    "hint: You can instead skip this commit: run \"git rebase --skip\".\r\n",
    "hint: To abort and get back to the state before \"git rebase\", run \"git rebase --abort\".\r\n",
    "Could not apply 63327ad... commit changes so i can rebase\r\n",
    "\r\n",
    "JTURNER@C4VXRD2 MINGW64 ~/OneDrive - City of Sugar Land/PyProjects/_pyNotes/git_notes (master|REBASE 4/5)\r\n",
    "$ git log --oneline\r\n",
    "45b3f64 (HEAD) file2.py amend message\r\n",
    "3cf2f71 (origin/master) adding .ipynb file\r\n",
    "fa6818b Initial commit\r\n",
    "\r\n"
   ],
   "metadata": {}
  },
  {
   "cell_type": "markdown",
   "source": [
    "# TODO\r\n",
    "- How do i delete remote github commits?\r\n",
    "- How do i configure to be able to push to main branch as owner? currently not the case.\r\n",
    "- Review merge process when someone else sends pull request to my remote repo?\r\n",
    "- Try to --amend messages & --amend commits to remote repo? does this create a new history point?\r\n",
    "- Go over rebase\r\n",
    "- go over reset -soft & -hard\r\n",
    "- git logs\r\n",
    "- checkout see current branch, branches, create branches\r\n",
    "- git stash\r\n",
    "\r\n",
    " "
   ],
   "metadata": {}
  }
 ],
 "metadata": {
  "orig_nbformat": 4,
  "language_info": {
   "name": "python"
  }
 },
 "nbformat": 4,
 "nbformat_minor": 2
}