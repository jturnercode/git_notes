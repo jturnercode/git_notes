{
 "cells": [
  {
   "cell_type": "markdown",
   "source": [
    "# Git Notes\r\n",
    "\r\n",
    "Guide to help me learn git better by using git\r\n",
    "(also practice markdown)"
   ],
   "metadata": {}
  },
  {
   "cell_type": "markdown",
   "source": [
    "## Git Help\r\n",
    "\r\n",
    "Access common git commands\r\n",
    "> git help\r\n",
    "\r\n",
    "Pull up doc for a specific command\r\n",
    "> git <command> --help\r\n",
    "\r\n",
    "Check git version\r\n",
    "> git --version\r\n"
   ],
   "metadata": {}
  },
  {
   "cell_type": "markdown",
   "source": [
    "## Initialize Local Git Repository\r\n",
    "\r\n",
    "Typically if you are not cloning a remote project to a current local directory, the first step would be to initial a git repository locally. \r\n",
    "\r\n",
    "First create a folder on local machine that will hold files \r\n",
    "Initialize a directory\r\n",
    ">git init\r\n",
    "\r\n",
    "*Note: We can also create directory and initialize at same time*\r\n",
    ">git init directory_name\r\n",
    "\r\n",
    "The init command will also create a .git folder which holds all files that git uses to track history. There is no need to touch any of these files."
   ],
   "metadata": {}
  },
  {
   "cell_type": "markdown",
   "source": [
    "## Git Status\r\n",
    "The **git status** command is one of the most used commands that let you know state of the local git repo. It also provides helpful information on possible next steps while working within local repository.\r\n",
    ">git status"
   ],
   "metadata": {}
  },
  {
   "cell_type": "markdown",
   "source": [
    "## Connect Local Repo to Remote Repo\r\n",
    "*>git remote add <name> <repository url>*\r\n",
    "example: git remote add origin https://github.com/reponame\r\n",
    "\r\n",
    "*Note: origin is the recommended or by default used by the developer for the first or primary repository on GitHub. It is not restricted and you can use your own name.*\r\n",
    "\r\n",
    "Check remote connection details\r\n",
    ">git remote -v"
   ],
   "metadata": {}
  },
  {
   "cell_type": "markdown",
   "source": [
    "## git pull\r\n",
    "\r\n",
    "Incorporates changes from a remote repository into the current branch.\r\n",
    "- If the current (local) branch is behind the remote, then by default it will fast-forward the current branch to match the remote. **This will overwrite local files.**\r\n",
    "- If the current branch and the remote have diverged, the user needs to specify how to reconcile the divergent branches with --rebase or --no-rebase (or the corresponding configuration option in pull.rebase).\r\n",
    "\r\n",
    ">git pull <remote> <branch>\r\n",
    "\r\n",
    "### Pulling remote repo into local repo with exising files\r\n",
    "pulling into local directory will possibly overwrite local repo files \r\n",
    "\r\n",
    "*To be able to push to your remote repository, you must ascertain that all your changes to the local repository are committed.*"
   ],
   "metadata": {}
  },
  {
   "cell_type": "markdown",
   "source": [
    "## git push\r\n",
    "Update remote refs along with associated objects\r\n",
    "\r\n",
    "\r\n",
    "\r\n",
    "??To push the current branch and set the remote as upstream, use:\r\n",
    ">git push --set-upstream origin master\r\n",
    "\r\n",
    "\r\n",
    "\r\n",
    "### pushing new branch?\r\n",
    "output from creating master branch over main branch\r\n",
    "remote: Create a pull request for 'master' on GitHub by visiting:\r\n",
    "remote:      https://github.com/jturnercode/git_notes/pull/new/master\r\n",
    "remote:\r\n",
    "To https://github.com/jturnercode/git_notes.git\r\n",
    " * [new branch]      master -> master\r\n",
    "Branch 'master' set up to track remote branch 'master' from 'origin'. \r\n",
    "\r\n",
    "\r\n",
    "### push errors\r\n",
    "\r\n",
    "1. error: failed to push some refs to 'https://github.com/myrepo/git_notes.git'\r\n",
    "Pushed to main/master branch with result above error. This is likely due to not being recognized as owner of the repo. Need to setup remote with password locally? or submit new branch so owner can merge\r\n",
    "\r\n",
    "read\r\n",
    "https://archaeogeek.github.io/gettingstartedwithgit/github/pullrequest.html\r\n",
    "\r\n",
    "\r\n"
   ],
   "metadata": {}
  },
  {
   "cell_type": "markdown",
   "source": [
    "## TODO\r\n",
    "- How do i delete remote github commits?\r\n",
    "- How do i configure to be able to push to main branch as owner? currently not the case.\r\n",
    "- Review merge process when someone else sends pull request to my remote repo?\r\n",
    "- Try to --amend messages & --amend commits to remote repo? does this create a new history point?\r\n",
    "- Go over rebase\r\n",
    "- go over reset -soft & -hard\r\n",
    "\r\n",
    " "
   ],
   "metadata": {}
  }
 ],
 "metadata": {
  "orig_nbformat": 4,
  "language_info": {
   "name": "python"
  }
 },
 "nbformat": 4,
 "nbformat_minor": 2
}